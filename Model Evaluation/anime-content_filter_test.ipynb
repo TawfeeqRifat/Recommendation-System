{
 "cells": [
  {
   "cell_type": "code",
   "execution_count": 1,
   "id": "ffff3e3b",
   "metadata": {},
   "outputs": [],
   "source": [
    "import pandas as pd\n",
    "import difflib\n",
    "import pickle"
   ]
  },
  {
   "cell_type": "code",
   "execution_count": 5,
   "id": "4d793591",
   "metadata": {},
   "outputs": [],
   "source": [
    "anime_data = pd.read_csv(\"../Datasets/anilist.csv\")"
   ]
  },
  {
   "cell_type": "code",
   "execution_count": 4,
   "id": "b724fdc1",
   "metadata": {},
   "outputs": [],
   "source": [
    "similarity = pickle.load(open(\"../Models/similarity.sav\",\"rb\"))"
   ]
  },
  {
   "cell_type": "code",
   "execution_count": 6,
   "id": "4ecdece7",
   "metadata": {},
   "outputs": [],
   "source": [
    "list_of_all_titles = anime_data['title'].tolist()"
   ]
  },
  {
   "cell_type": "code",
   "execution_count": null,
   "id": "cb0b92df",
   "metadata": {},
   "outputs": [],
   "source": [
    "def find_recomendations(anime_name):\n",
    "    close_match = difflib.get_close_matches(anime_name,list_of_all_titles)[0]\n",
    "    sorted_similarity_scores = sorted(list(enumerate(similarity[list_of_all_titles.index(close_match)])), key = lambda x: x[1],reverse=True)\n",
    "    print(\"Anime Suggested For You:\")\n",
    "    for movie in sorted_similarity_scores[1:20]:\n",
    "        print(list_of_all_titles[movie[0]])\n",
    "        \n"
   ]
  },
  {
   "cell_type": "code",
   "execution_count": null,
   "id": "1d66a2a5",
   "metadata": {},
   "outputs": [
    {
     "name": "stdout",
     "output_type": "stream",
     "text": [
      "Anime Suggested For You:\n",
      "Magical Girl Raising Project\n",
      "Fruits Basket (2019)\n",
      "The Little Lies We All Tell\n",
      "Chivalry of a Failed Knight\n",
      "The World God Only Knows II\n",
      "The Founder of Diabolism: Final Season\n",
      "To Love Ru Darkness 2\n",
      "Soaring Sky! Precure\n",
      "That Time I Got Reincarnated as a Slime\n",
      "Blood-C\n",
      "Yuki Yuna is a Hero\n",
      "Sailor Moon SuperS\n",
      "DARLING in the FRANXX\n",
      "Dragon Ball Z Kai: The Final Chapters\n",
      "Strike the Blood Second\n",
      "My-HiME\n",
      "World Break: Aria of Curse for a Holy Swordsman\n",
      "Attack on Titan Final Season\n",
      "ODDTAXI In The Woods\n"
     ]
    }
   ],
   "source": [
    "anime_name = input(\"Enter the Anime Name: \")\n",
    "find_recomendations(anime_name)"
   ]
  }
 ],
 "metadata": {
  "kernelspec": {
   "display_name": "base",
   "language": "python",
   "name": "python3"
  },
  "language_info": {
   "codemirror_mode": {
    "name": "ipython",
    "version": 3
   },
   "file_extension": ".py",
   "mimetype": "text/x-python",
   "name": "python",
   "nbconvert_exporter": "python",
   "pygments_lexer": "ipython3",
   "version": "3.13.5"
  }
 },
 "nbformat": 4,
 "nbformat_minor": 5
}
